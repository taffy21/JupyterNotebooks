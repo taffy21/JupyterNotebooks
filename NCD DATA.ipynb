{
 "cells": [
  {
   "cell_type": "markdown",
   "id": "5200d3d2",
   "metadata": {},
   "source": [
    "# NCD ANALYSIS\n",
    "\n",
    "1. Recreate cascades in the Monthly PPT\n",
    "2. Identify patterns from the data\n",
    "3. Track progress vs targets\n",
    "\n",
    "## Targets\n",
    "1. Annual (Combined)- 117525      Chitungwiza-39410 Bulawayo-78115\n",
    "2. Gen Pop - 64800                Chitungwiza-21960 Bulawayo-43200\n",
    "3. PLHIV - 52365                  Chitungwiza-17450 Bulawayo-34915\n",
    "\n",
    "### Plan\n",
    "1. Function that produces cascades by province and by population\n",
    "\n",
    "#### N.B. CURRENTLY MISSING LINKAGE TO SERVICES DATA\n"
   ]
  },
  {
   "cell_type": "code",
   "execution_count": 1,
   "id": "fc6007de",
   "metadata": {},
   "outputs": [],
   "source": [
    "import pandas as pd\n",
    "import matplotlib.pyplot as plt\n",
    "import seaborn as sns\n",
    "import numpy as np\n",
    "import datetime\n",
    "\n",
    "from tabulate import tabulate\n",
    "%matplotlib inline"
   ]
  },
  {
   "cell_type": "markdown",
   "id": "fa0521f4",
   "metadata": {},
   "source": [
    "<h3 style=\"color: red\"> All Functions</h3>"
   ]
  },
  {
   "cell_type": "code",
   "execution_count": 2,
   "id": "bb59065f",
   "metadata": {},
   "outputs": [],
   "source": [
    "def screened_period(dataframe, last_date, first_date=\"2022-12-01\"):\n",
    "    \"\"\"This function calculates the total screened between 2 time periods. the first day is a kwarg in the\n",
    "    from of a string with format YYYY-MM-DD that can be changed by the user depending on the date they want \n",
    "    to first search.last_date should be a string object in the form YYYY-MM-DD\"\"\"\n",
    "    \n",
    "    mask = (dataframe[\"Enrollment date\"]> first_date) & (dataframe[\"Enrollment date\"] <= last_date)\n",
    "    dataframe = dataframe.loc[mask]\n",
    "    return dataframe, len(dataframe)"
   ]
  },
  {
   "cell_type": "code",
   "execution_count": 3,
   "id": "c7331243",
   "metadata": {},
   "outputs": [],
   "source": [
    "# Number with NCDs in the current Month\n",
    "\n",
    "def ncd_pos(dataframe):\n",
    "    \"\"\"returns dataframes for diabetics, hypertensives and total referred regardless of condition\"\"\"\n",
    "    diabetic = dataframe[dataframe['CTL - NCD Random blood sugar'] > 11]\n",
    "    hypertensive = dataframe[(dataframe['CTL - NCD Systolic blood pressure']>140)|(dataframe['CTL - NCD Diastolic blood pressure']>90)]\n",
    "    referred = dataframe[dataframe['CTL - NCD If Hypertensive (i.e. >140/90mmHg) or diabetic (11mmol/L) client has been referred for treatment and care at the health facility']==1.0]\n",
    "    return diabetic, hypertensive, referred\n",
    "    "
   ]
  },
  {
   "cell_type": "code",
   "execution_count": 4,
   "id": "5ec42f9e",
   "metadata": {},
   "outputs": [],
   "source": [
    "def annotate(rect, ax):\n",
    "    \"\"\"annotates bar graph\"\"\"\n",
    "    for item in range(len(rect)):\n",
    "        height = rect[item]\n",
    "        ax.annotate('{}'.format(height), fontsize=10, xy = (item, height), xytext = (10,2),\n",
    "                   textcoords = 'offset points', ha = 'right', va = 'bottom')"
   ]
  },
  {
   "cell_type": "code",
   "execution_count": 5,
   "id": "ca81f810",
   "metadata": {},
   "outputs": [],
   "source": [
    "def art_genpop(dataframe):\n",
    "    \"\"\"this function returns dataframes by ART and Gen. Population\"\"\"\n",
    "    on_art = dataframe[dataframe['CTL - Is client on ART']==1.0]\n",
    "    gen_pop = dataframe[dataframe['CTL - Is client on ART']==0.0]\n",
    "    return on_art, gen_pop"
   ]
  },
  {
   "cell_type": "code",
   "execution_count": 6,
   "id": "8afe6945",
   "metadata": {},
   "outputs": [],
   "source": [
    "def male_female(dataframe):\n",
    "    \"\"\"this function returns dataframes by gender\"\"\"\n",
    "    male = dataframe[dataframe['CTL - Client Sex']==\"Male\"]\n",
    "    female = dataframe[dataframe['CTL - Client Sex']==\"Female\"]\n",
    "    return male, female"
   ]
  },
  {
   "cell_type": "code",
   "execution_count": 7,
   "id": "a9abb3ae",
   "metadata": {},
   "outputs": [],
   "source": [
    "def get_facility(org_unit_name):\n",
    "    \"\"\"This function returns the facility name from the column Organisation unit name. Not for general use\"\"\"\n",
    "    try:\n",
    "        return org_unit_name.split('-')[1]\n",
    "    except:\n",
    "        return org_unit_name   "
   ]
  },
  {
   "cell_type": "code",
   "execution_count": 8,
   "id": "899d7d86",
   "metadata": {},
   "outputs": [],
   "source": [
    "def monthly_cascade(target, last_month_screened, ncds_total, referrals, percent_screen, percent_ncd, percent_refer):\n",
    "    \"\"\"returns a bar graph of the overall cascade: Target for screening, Screened, NCDs (Hypertension + DM), Refered\n",
    "    missing --> linked. This can be added when source obtained from COACs\"\"\"\n",
    "    \n",
    "    fig, ax = plt.subplots(figsize=(15,7))\n",
    "    height = [target, last_month_screened, ncds_total, referrals]\n",
    "\n",
    "    ax.bar(x = [\"Monthly Target\", \"Screened\", \"Hptnsv/Prediabetic\", \"Referred\"], height=height, color=[\"#C55A11\",\"#F8CBAD\",\"#F8CBAD\",\"#F8CBAD\"])\n",
    "    annotate(height, ax)\n",
    "    \n",
    "    # remember to change the starting point of the arrows as the cascades improve\n",
    "    ax.annotate(f\"{percent_screen}%\",\n",
    "                xy=(0.8, last_month_screened*1.01), xycoords='data',\n",
    "                xytext=(0.5, target*3/4), textcoords='data',\n",
    "                arrowprops=dict(arrowstyle=\"->\", connectionstyle=\"angle, angleA=90, angleB=-180, rad=10\"), \n",
    "                size=14, color='red', fontweight='bold', backgroundcolor='yellow')\n",
    "    ax.annotate(f\"{percent_ncd}%\",\n",
    "                xy=(1.8, ncds_total*1.01), xycoords='data',\n",
    "                xytext=(1.5, last_month_screened*3/4), textcoords='data',\n",
    "                arrowprops=dict(arrowstyle=\"->\", connectionstyle=\"angle, angleA=90, angleB=-180, rad=10\"),\n",
    "                size=14, color='red', fontweight='bold', backgroundcolor='yellow')\n",
    "    ax.annotate(f\"{percent_refer}%\",\n",
    "                xy=(2.8, referrals*1.01), xycoords='data',\n",
    "                xytext=(2.5, ncds_total), textcoords='data',\n",
    "                arrowprops=dict(arrowstyle=\"->\", connectionstyle=\"angle, angleA=90, angleB=-180, rad=10\"),\n",
    "                size=14, color='red', fontweight='bold', backgroundcolor='yellow')\n",
    "\n",
    "    plt.show()"
   ]
  },
  {
   "cell_type": "code",
   "execution_count": 9,
   "id": "ebcce6c6",
   "metadata": {},
   "outputs": [],
   "source": [
    "def cascade_indicators_monthly(dataframe, target):\n",
    "    \"\"\"returns the indicators that will provide input into the monthly cascasde graph\"\"\"    \n",
    "    \n",
    "    last_month, screened_last_month = screened_period(dataframe, \"2023-03-31\", first_date=\"2023-03-01\")\n",
    "    diabetic, hypertensive, referred = ncd_pos(last_month)\n",
    "    ncd = len(diabetic)+len(hypertensive)\n",
    "    refer = len(referred)\n",
    "\n",
    "    # percentages\n",
    "    perc_screened = round((screened_last_month/target*100),1)\n",
    "    perc_ncd = round((ncd/screened_last_month*100),1)\n",
    "    perc_refered = round((refer/ncd*100),1)   \n",
    "    \n",
    "    return len(last_month), ncd, refer, perc_screened, perc_ncd, perc_refered"
   ]
  },
  {
   "cell_type": "code",
   "execution_count": 10,
   "id": "c9c5dfcb",
   "metadata": {},
   "outputs": [],
   "source": [
    "def monthly_target(province, dataframe, date_last_month, months_implemented):\n",
    "    '''Setting the tone for the monthly target. \n",
    "    Province --> insert either National, Bulawayo or Chitungwiza,\n",
    "    date_last_month --> last date of the previous month in format YYYY-MM-DD,\n",
    "    months_implemented --> number of program months completed beginning December 2022'''\n",
    "    \n",
    "    if province == \"National\":\n",
    "        annual_target = 117525\n",
    "    elif province == \"Bulawayo\":\n",
    "        annual_target = 78115\n",
    "    elif province == \"Chitungwiza\":\n",
    "        annual_target = 39410   \n",
    "    \n",
    "    last_month, cumulative = screened_period(dataframe, date_last_month)\n",
    "    months_implemented = months_implemented    # Beginning December 2022\n",
    "    remaining_months = 12-months_implemented\n",
    "\n",
    "    monthly_target = round((annual_target-cumulative)/remaining_months, 0)\n",
    "    return monthly_target"
   ]
  },
  {
   "cell_type": "code",
   "execution_count": 11,
   "id": "0a253a19",
   "metadata": {},
   "outputs": [],
   "source": [
    "def referrals_per_ncd(dataframe):\n",
    "    \"\"\"returns a dataframe with referrals by NCD. Used with NCD specific dataframe\"\"\"\n",
    "    result = dataframe[dataframe['CTL - NCD If Hypertensive (i.e. >140/90mmHg) or diabetic (11mmol/L) client has been referred for treatment and care at the health facility']==1.0]\n",
    "    return result"
   ]
  },
  {
   "cell_type": "code",
   "execution_count": 12,
   "id": "2240b6a7",
   "metadata": {},
   "outputs": [],
   "source": [
    "def ncd_grid(hptn_art, dm_art, hptn_gen, dm_gen):\n",
    "    \"\"\"returns a 4 image grid comparing NCD by population. ie. gen pop vs. PLHIV. \n",
    "    Inputs into this grid are lists with 3 values: screened, hypertensive, referrals\"\"\"\n",
    "    height_hptn_art = hptn_art\n",
    "    height_dm_art = dm_art\n",
    "    height_hptn_gen = hptn_gen\n",
    "    height_dm_gen = dm_gen\n",
    "    \n",
    "    colors = [\"#008080\", \"#90EE90\", \"#90EE90\"]\n",
    "    \n",
    "    fig, ((ax1, ax2), (ax3, ax4)) = plt.subplots(ncols=2, nrows=2, figsize=(16,12))\n",
    "    ax1.bar(x = [\"Screened_ON_ART\", \"Hypertensive\", \"Refered\"], height=height_hptn_art, color=colors)\n",
    "    ax2.bar(x = [\"Screened_ON_ART\", \"Diabetic\", \"Refered\"], height=height_dm_art, color=colors)\n",
    "    ax3.bar(x = [\"Screened_GEN_POP\", \"Hypertensive\", \"Refered\"], height=height_hptn_gen, color=colors)\n",
    "    ax4.bar(x = [\"Screened_GEN_POP\", \"Diabetic\", \"Refered\"], height=height_dm_gen, color=colors)\n",
    "    \n",
    "    annotate(height_hptn_art, ax1)\n",
    "    annotate(height_dm_art, ax2)\n",
    "    annotate(height_hptn_gen, ax3)\n",
    "    annotate(height_dm_gen, ax4)\n",
    "    \n",
    "    # first axis   \n",
    "    ax1.annotate(\"{:.1f}%\".format((height_hptn_art[1]/height_hptn_art[0]*100)),\n",
    "                xy=(0.8, height_hptn_art[1]*1.01), xycoords='data',\n",
    "                xytext=(0.5, height_hptn_art[0]*3/4), textcoords='data',\n",
    "                arrowprops=dict(arrowstyle=\"->\", connectionstyle=\"angle, angleA=90, angleB=-180, rad=10\"), \n",
    "                size=14, color='red', fontweight='bold', backgroundcolor='yellow')\n",
    "    ax1.annotate(\"{:.1f}%\".format((height_hptn_art[2]/height_hptn_art[1]*100)),\n",
    "                xy=(1.8, height_hptn_art[2]*1.01), xycoords='data',\n",
    "                xytext=(1.5, height_hptn_art[1]*3/4), textcoords='data',\n",
    "                arrowprops=dict(arrowstyle=\"->\", connectionstyle=\"angle, angleA=90, angleB=-180, rad=10\"), \n",
    "                size=14, color='red', fontweight='bold', backgroundcolor='yellow')\n",
    "    \n",
    "    # second axis\n",
    "    ax2.annotate(\"{:.1f}%\".format((height_dm_art[1]/height_dm_art[0]*100)),\n",
    "                xy=(0.8, height_dm_art[1]*1.01), xycoords='data',\n",
    "                xytext=(0.5, height_dm_art[0]*1/4), textcoords='data',\n",
    "                arrowprops=dict(arrowstyle=\"->\", connectionstyle=\"angle, angleA=90, angleB=-180, rad=10\"), \n",
    "                size=14, color='red', fontweight='bold', backgroundcolor='yellow')\n",
    "    ax2.annotate(\"{:.1f}%\".format((height_dm_art[2]/height_dm_art[1]*100)),\n",
    "                xy=(1.8, height_dm_art[2]*1.01), xycoords='data',\n",
    "                xytext=(1.5, height_dm_art[1]*3/4), textcoords='data',\n",
    "                arrowprops=dict(arrowstyle=\"->\", connectionstyle=\"angle, angleA=90, angleB=-180, rad=10\"), \n",
    "                size=14, color='red', fontweight='bold', backgroundcolor='yellow')\n",
    "    \n",
    "    # third axis\n",
    "    ax3.annotate(\"{:.1f}%\".format((height_hptn_gen[1]/height_hptn_gen[0]*100)),\n",
    "                xy=(0.8, height_hptn_gen[1]*1.01), xycoords='data',\n",
    "                xytext=(0.5, height_hptn_gen[0]*3/4), textcoords='data',\n",
    "                arrowprops=dict(arrowstyle=\"->\", connectionstyle=\"angle, angleA=90, angleB=-180, rad=10\"), \n",
    "                size=14, color='red', fontweight='bold', backgroundcolor='yellow')\n",
    "    ax3.annotate(\"{:.1f}%\".format((height_hptn_gen[2]/height_hptn_gen[1]*100)),\n",
    "                xy=(1.8, height_hptn_gen[2]*1.01), xycoords='data',\n",
    "                xytext=(1.5, height_hptn_gen[1]*3/4), textcoords='data',\n",
    "                arrowprops=dict(arrowstyle=\"->\", connectionstyle=\"angle, angleA=90, angleB=-180, rad=10\"), \n",
    "                size=14, color='red', fontweight='bold', backgroundcolor='yellow')\n",
    "    \n",
    "    # fourth axis\n",
    "    ax4.annotate(\"{:.1f}%\".format((height_dm_gen[1]/height_dm_gen[0]*100)),\n",
    "                xy=(0.8, height_dm_gen[1]*1.01), xycoords='data',\n",
    "                xytext=(0.5, height_dm_gen[0]*1/4), textcoords='data',\n",
    "                arrowprops=dict(arrowstyle=\"->\", connectionstyle=\"angle, angleA=90, angleB=-180, rad=10\"), \n",
    "                size=14, color='red', fontweight='bold', backgroundcolor='yellow')\n",
    "    ax4.annotate(\"{:.1f}%\".format((height_dm_gen[2]/height_dm_gen[1]*100)),\n",
    "                xy=(1.8, height_dm_gen[2]*1.01), xycoords='data',\n",
    "                xytext=(1.5, height_dm_gen[1]*3/4), textcoords='data',\n",
    "                arrowprops=dict(arrowstyle=\"->\", connectionstyle=\"angle, angleA=90, angleB=-180, rad=10\"), \n",
    "                size=14, color='red', fontweight='bold', backgroundcolor='yellow')\n",
    "    \n",
    "    \n",
    "    plt.show()"
   ]
  },
  {
   "cell_type": "markdown",
   "id": "12f5acfb",
   "metadata": {},
   "source": [
    "<h3 style=\"color: red\">DataFrame - Munging</h3>"
   ]
  },
  {
   "cell_type": "code",
   "execution_count": 13,
   "id": "e0bc6266",
   "metadata": {},
   "outputs": [],
   "source": [
    "df = pd.read_csv(\"enrollments.csv\")\n",
    "df[\"Enrollment date\"] = pd.to_datetime(df[\"Enrollment date\"])\n",
    "df[\"Facility\"] = df[\"Organisation unit name\"].apply(lambda x: get_facility(x))"
   ]
  },
  {
   "cell_type": "code",
   "execution_count": 14,
   "id": "334a7ab5",
   "metadata": {},
   "outputs": [],
   "source": [
    "# insert provincial names into Dataframe -->\n",
    "\n",
    "district = {}\n",
    "for i in df['Facility']:\n",
    "    if \"Seke\" in i or \"Mary\" in i or \"Zengeza\" in i or \"COA\" in i:\n",
    "        district[i] = \"Chitungwiza\"\n",
    "    else:\n",
    "        district[i] = \"Bulawayo\"\n",
    "\n",
    "df[\"Province\"] = df['Facility'].apply(lambda x: district[x])"
   ]
  },
  {
   "cell_type": "code",
   "execution_count": 15,
   "id": "97982b82",
   "metadata": {},
   "outputs": [],
   "source": [
    "# Removing test date from the dataframe --\n",
    "\n",
    "#Indexes for Test dataframe\n",
    "test_zw_index = df[df['Organisation unit name'] == '_Test ZW'].index\n",
    "hsqo_test_zw_index = df[df['Organisation unit name'] == 'HSQO_test'].index\n",
    "\n",
    "# Drop Test data from the dataframe\n",
    "try:\n",
    "    for i in test_zw_index:\n",
    "        df = df.drop(i)\n",
    "    for i in hsqo_test_zw_index:\n",
    "        df = df.drop(i)\n",
    "except:\n",
    "    pass"
   ]
  },
  {
   "cell_type": "code",
   "execution_count": 16,
   "id": "6a25c127",
   "metadata": {},
   "outputs": [],
   "source": [
    "# Obtaining Client Ages\n",
    "df['CTL - Client Date of Birth'] = pd.to_datetime(df['CTL - Client Date of Birth'])\n",
    "df[\"Age\"] = df['CTL - Client Date of Birth'].apply(lambda x: ((datetime.datetime.today() - x).total_seconds() / (365.25 * 24 * 3600)))"
   ]
  },
  {
   "cell_type": "markdown",
   "id": "5d5efb7a",
   "metadata": {},
   "source": [
    "### Essential Variables \n",
    "To keep code DRY"
   ]
  },
  {
   "cell_type": "code",
   "execution_count": 17,
   "id": "50237ae3",
   "metadata": {},
   "outputs": [],
   "source": [
    "last_date_prev_month = '2023-02-28'   # for calculation of cumulative reporting month target\n",
    "first_date_reporting_month = '2023-03-01' # reporting month\n",
    "last_date_reporting_month = '2023-03-31'"
   ]
  },
  {
   "cell_type": "markdown",
   "id": "1b992570",
   "metadata": {},
   "source": [
    "<h3 style=\"color: red\">Analyses</h3>"
   ]
  },
  {
   "cell_type": "code",
   "execution_count": 18,
   "id": "b6697203",
   "metadata": {},
   "outputs": [
    {
     "data": {
      "text/plain": [
       "count    8557.000000\n",
       "mean       49.612268\n",
       "std        14.461737\n",
       "min         0.030023\n",
       "25%        42.850009\n",
       "50%        49.168969\n",
       "75%        57.327764\n",
       "max       122.606340\n",
       "Name: Age, dtype: float64"
      ]
     },
     "execution_count": 18,
     "metadata": {},
     "output_type": "execute_result"
    }
   ],
   "source": [
    "# age of clients screened overall\n",
    "df.Age.describe()"
   ]
  },
  {
   "cell_type": "code",
   "execution_count": 19,
   "id": "ab452fc6",
   "metadata": {},
   "outputs": [
    {
     "data": {
      "text/plain": [
       "count    3640.000000\n",
       "mean       48.896063\n",
       "std        14.197700\n",
       "min         0.030023\n",
       "25%        42.776087\n",
       "50%        48.926669\n",
       "75%        56.853431\n",
       "max        99.821946\n",
       "Name: Age, dtype: float64"
      ]
     },
     "execution_count": 19,
     "metadata": {},
     "output_type": "execute_result"
    }
   ],
   "source": [
    "# age of clients screened in reporting period\n",
    "screened_period(df, last_date_reporting_month, first_date=first_date_reporting_month)[0].Age.describe()"
   ]
  },
  {
   "cell_type": "code",
   "execution_count": 20,
   "id": "35e3bbc7",
   "metadata": {},
   "outputs": [],
   "source": [
    "target_national = monthly_target(\"National\", df, last_date_prev_month, 3)\n",
    "last_month_nat, ncd_nat, referred_nat, perc_screened_nat, perc_ncd_nat, perc_refered_nat = cascade_indicators_monthly(df, target_national)"
   ]
  },
  {
   "cell_type": "code",
   "execution_count": 21,
   "id": "03c5c2bf",
   "metadata": {},
   "outputs": [
    {
     "data": {
      "image/png": "[encoded data removed]",
      "text/plain": [
       "<Figure size 1080x504 with 1 Axes>"
      ]
     },
     "metadata": {
      "needs_background": "light"
     },
     "output_type": "display_data"
    }
   ],
   "source": [
    "monthly_cascade(target_national, last_month_nat, ncd_nat, referred_nat, perc_screened_nat, perc_ncd_nat, perc_refered_nat)"
   ]
  },
  {
   "cell_type": "code",
   "execution_count": 22,
   "id": "e9a23195",
   "metadata": {},
   "outputs": [
    {
     "data": {
      "image/png": "[encoded data removed]",
      "text/plain": [
       "<Figure size 432x288 with 1 Axes>"
      ]
     },
     "metadata": {},
     "output_type": "display_data"
    }
   ],
   "source": [
    "on_art_nat, gen_pop_nat = art_genpop(df)\n",
    "fig, ax = plt.subplots()\n",
    "ax.pie(x = [len(on_art_nat), len(gen_pop_nat)], labels=[\"On ART\", \"Gen. Population\"], \n",
    "       startangle=90, explode=[0.025, 0.025], colors=[\"#C55A11\",\"#F8CBAD\"], autopct='%1.1f%%')\n",
    "plt.show()"
   ]
  },
  {
   "cell_type": "markdown",
   "id": "32932d8e",
   "metadata": {},
   "source": [
    "### PROVINCIAL"
   ]
  },
  {
   "cell_type": "code",
   "execution_count": 23,
   "id": "e1045d46",
   "metadata": {},
   "outputs": [],
   "source": [
    "# creating dataframes for the individual provinces here:\n",
    "\n",
    "provinces = df.groupby(\"Province\")\n",
    "bulawayo = provinces.get_group(\"Bulawayo\")\n",
    "chitungwiza = provinces.get_group(\"Chitungwiza\")"
   ]
  },
  {
   "cell_type": "code",
   "execution_count": 24,
   "id": "e250a2be",
   "metadata": {},
   "outputs": [],
   "source": [
    "# creating dataframes for gen pop and plhiv by province here: \n",
    "\n",
    "byo_gen, byo_art = art_genpop(bulawayo)\n",
    "chit_gen, chit_art = art_genpop(chitungwiza)"
   ]
  },
  {
   "cell_type": "markdown",
   "id": "d9d784b5",
   "metadata": {},
   "source": [
    "## Bulawayo"
   ]
  },
  {
   "cell_type": "code",
   "execution_count": 25,
   "id": "02bcee34",
   "metadata": {},
   "outputs": [],
   "source": [
    "# Monthly Targets\n",
    "target_byo = monthly_target(\"Bulawayo\", df, last_date_prev_month, 3)\n",
    "last_month_byo, ncd_byo, referred_byo, perc_screened_byo, perc_ncd_byo, perc_refered_byo = cascade_indicators_monthly(bulawayo, target_byo)"
   ]
  },
  {
   "cell_type": "markdown",
   "id": "59a57292",
   "metadata": {},
   "source": [
    "### Bulawayo Overall Cascade"
   ]
  },
  {
   "cell_type": "code",
   "execution_count": 26,
   "id": "5abd715a",
   "metadata": {
    "scrolled": false
   },
   "outputs": [
    {
     "data": {
      "image/png": "[encoded data removed]",
      "text/plain": [
       "<Figure size 1080x504 with 1 Axes>"
      ]
     },
     "metadata": {
      "needs_background": "light"
     },
     "output_type": "display_data"
    }
   ],
   "source": [
    "monthly_cascade(target_byo, last_month_byo, ncd_byo, referred_byo, perc_screened_byo, perc_ncd_byo, perc_refered_byo)"
   ]
  },
  {
   "cell_type": "markdown",
   "id": "04125929",
   "metadata": {},
   "source": [
    "### Distibution Gen Pop: On ART (Bulawayo)"
   ]
  },
  {
   "cell_type": "code",
   "execution_count": 27,
   "id": "4a9d3bbf",
   "metadata": {},
   "outputs": [
    {
     "data": {
      "image/png": "[encoded data removed]",
      "text/plain": [
       "<Figure size 432x288 with 1 Axes>"
      ]
     },
     "metadata": {},
     "output_type": "display_data"
    }
   ],
   "source": [
    "on_art_byo, gen_pop_byo = art_genpop(bulawayo)\n",
    "fig, ax = plt.subplots()\n",
    "ax.pie(x = [len(on_art_byo), len(gen_pop_byo)], labels=[\"On ART\", \"Gen. Population\"], \n",
    "       startangle=90, explode=[0.025, 0.025], colors=[\"#C55A11\",\"#F8CBAD\"], autopct='%1.1f%%')\n",
    "plt.show()"
   ]
  },
  {
   "cell_type": "code",
   "execution_count": 28,
   "id": "349da2fe",
   "metadata": {},
   "outputs": [],
   "source": [
    "# -->> plhiv-hypertension, plhiv - diabetes, gen_pop-hypertension, gen-pop-diabetes <<--#"
   ]
  },
  {
   "cell_type": "markdown",
   "id": "039fa695",
   "metadata": {},
   "source": [
    "### PLHIV vs GEN. POP Cascades - Bulawayo"
   ]
  },
  {
   "cell_type": "code",
   "execution_count": 29,
   "id": "d09497e2",
   "metadata": {},
   "outputs": [],
   "source": [
    "on_art_byo_df, on_art_byo_screened = screened_period(on_art_byo, last_date_reporting_month, first_date=first_date_reporting_month)\n",
    "on_art_byo_dm, on_art_byo_hptn, on_art_byo_referred = ncd_pos(on_art_byo_df)\n",
    "\n",
    "gen_pop_byo_df, gen_pop_byo_screened = screened_period(gen_pop_byo, last_date_reporting_month, first_date=first_date_reporting_month)\n",
    "gen_pop_byo_dm, gen_pop_byo_hptn, gen_pop_byo_referred = ncd_pos(gen_pop_byo_df)"
   ]
  },
  {
   "cell_type": "code",
   "execution_count": 30,
   "id": "9616a86b",
   "metadata": {},
   "outputs": [],
   "source": [
    "# inputs into ncd_grid:\n",
    "\n",
    "byo_hptn_cascade_art = [on_art_byo_screened, len(on_art_byo_hptn), len(referrals_per_ncd(on_art_byo_hptn))]\n",
    "byo_dm_cascade_art = [on_art_byo_screened, len(on_art_byo_dm), len(referrals_per_ncd(on_art_byo_dm))]\n",
    "\n",
    "byo_hptn_cascade_gen = [gen_pop_byo_screened, len(gen_pop_byo_hptn), len(referrals_per_ncd(gen_pop_byo_hptn))]\n",
    "byo_dm_cascade_gen = [gen_pop_byo_screened, len(gen_pop_byo_dm), len(referrals_per_ncd(gen_pop_byo_dm))]"
   ]
  },
  {
   "cell_type": "code",
   "execution_count": 31,
   "id": "f5acc6ab",
   "metadata": {},
   "outputs": [
    {
     "data": {
      "image/png": "[encoded data removed]",
      "text/plain": [
       "<Figure size 1152x864 with 4 Axes>"
      ]
     },
     "metadata": {
      "needs_background": "light"
     },
     "output_type": "display_data"
    }
   ],
   "source": [
    "ncd_grid(byo_hptn_cascade_art, byo_dm_cascade_art, byo_hptn_cascade_gen, byo_dm_cascade_gen)"
   ]
  },
  {
   "cell_type": "markdown",
   "id": "3089484b",
   "metadata": {},
   "source": [
    "## Chitungwiza"
   ]
  },
  {
   "cell_type": "code",
   "execution_count": 32,
   "id": "4a603fc2",
   "metadata": {},
   "outputs": [],
   "source": [
    "# Monthly Targets\n",
    "target_chit = monthly_target(\"Chitungwiza\", df, last_date_prev_month, 3)\n",
    "last_month_chit, ncd_chit, referred_chit, perc_screened_chit, perc_ncd_chit, perc_refered_chit = cascade_indicators_monthly(chitungwiza, target_chit)"
   ]
  },
  {
   "cell_type": "markdown",
   "id": "6edfb8b5",
   "metadata": {},
   "source": [
    "### Chitungwiza Overall Cascade"
   ]
  },
  {
   "cell_type": "code",
   "execution_count": 33,
   "id": "0dc1f38a",
   "metadata": {},
   "outputs": [
    {
     "data": {
      "image/png": "[encoded data removed]",
      "text/plain": [
       "<Figure size 1080x504 with 1 Axes>"
      ]
     },
     "metadata": {
      "needs_background": "light"
     },
     "output_type": "display_data"
    }
   ],
   "source": [
    "monthly_cascade(target_chit, last_month_chit, ncd_chit, referred_chit, perc_screened_chit, perc_ncd_chit, perc_refered_chit)"
   ]
  },
  {
   "cell_type": "markdown",
   "id": "1c49d37e",
   "metadata": {},
   "source": [
    "### Distibution Gen Pop: On ART (Chitungwiza)"
   ]
  },
  {
   "cell_type": "code",
   "execution_count": 34,
   "id": "3128225d",
   "metadata": {},
   "outputs": [
    {
     "data": {
      "image/png": "[encoded data removed]",
      "text/plain": [
       "<Figure size 432x288 with 1 Axes>"
      ]
     },
     "metadata": {},
     "output_type": "display_data"
    }
   ],
   "source": [
    "on_art_chit, gen_pop_chit = art_genpop(chitungwiza)\n",
    "fig, ax = plt.subplots()\n",
    "ax.pie(x = [len(on_art_chit), len(gen_pop_chit)], labels=[\"On ART\", \"Gen. Population\"], \n",
    "       startangle=90, explode=[0.025, 0.025], colors=[\"#C55A11\",\"#F8CBAD\"], autopct='%1.1f%%')\n",
    "plt.show()"
   ]
  },
  {
   "cell_type": "markdown",
   "id": "625cebb1",
   "metadata": {},
   "source": [
    "### PLHIV vs GEN. POP Cascades - Chitungwiza"
   ]
  },
  {
   "cell_type": "code",
   "execution_count": 35,
   "id": "d9866f14",
   "metadata": {},
   "outputs": [],
   "source": [
    "on_art_chit_df, on_art_chit_screened = screened_period(on_art_chit, last_date_reporting_month, first_date=first_date_reporting_month)\n",
    "on_art_chit_dm, on_art_chit_hptn, on_art_chit_referred = ncd_pos(on_art_chit_df)\n",
    "\n",
    "gen_pop_chit_df, gen_pop_chit_screened = screened_period(gen_pop_chit, last_date_reporting_month, first_date=first_date_reporting_month)\n",
    "gen_pop_chit_dm, gen_pop_chit_hptn, gen_pop_chit_referred = ncd_pos(gen_pop_chit_df)"
   ]
  },
  {
   "cell_type": "code",
   "execution_count": 36,
   "id": "9bce2406",
   "metadata": {},
   "outputs": [],
   "source": [
    "# inputs into ncd_grid:\n",
    "\n",
    "chit_hptn_cascade_art = [on_art_chit_screened, len(on_art_chit_hptn), len(referrals_per_ncd(on_art_chit_hptn))]\n",
    "chit_dm_cascade_art = [on_art_chit_screened, len(on_art_chit_dm), len(referrals_per_ncd(on_art_chit_dm))]\n",
    "\n",
    "chit_hptn_cascade_gen = [gen_pop_chit_screened, len(gen_pop_chit_hptn), len(referrals_per_ncd(gen_pop_chit_hptn))]\n",
    "chit_dm_cascade_gen = [gen_pop_chit_screened, len(gen_pop_chit_dm), len(referrals_per_ncd(gen_pop_chit_dm))]"
   ]
  },
  {
   "cell_type": "code",
   "execution_count": 37,
   "id": "779c8db5",
   "metadata": {},
   "outputs": [
    {
     "data": {
      "image/png": "[encoded data removed]",
      "text/plain": [
       "<Figure size 1152x864 with 4 Axes>"
      ]
     },
     "metadata": {
      "needs_background": "light"
     },
     "output_type": "display_data"
    }
   ],
   "source": [
    "ncd_grid(chit_hptn_cascade_art, chit_dm_cascade_art, chit_hptn_cascade_gen, chit_dm_cascade_gen)"
   ]
  },
  {
   "cell_type": "markdown",
   "id": "d9bb7258",
   "metadata": {},
   "source": [
    "### Cumulative Analysis by PLHIV vs. Gen Pop"
   ]
  },
  {
   "cell_type": "code",
   "execution_count": 38,
   "id": "63af38e0",
   "metadata": {},
   "outputs": [],
   "source": [
    "screened_df, cumulative_screened = screened_period(df, last_date_reporting_month)\n",
    "diabetic, hypertensive, referred = ncd_pos(df)\n",
    "prev_hypertension = len(df[df['CTL - NCD Have you previously been diagnosed with BP']==1.0])\n",
    "prev_diabetes = len(df[df['CTL - NCD Have you been previously diagnosed with Diabetes Mellitus']==1.0])\n",
    "\n",
    "\n",
    "plhiv_total, gen_pop_total = art_genpop(df)\n",
    "prev_hptn_plhiv = len(plhiv_total[plhiv_total['CTL - NCD Have you previously been diagnosed with BP']==1.0])\n",
    "prev_hptn_gen = len(gen_pop_total[gen_pop_total['CTL - NCD Have you previously been diagnosed with BP']==1.0])\n",
    "prev_dm_plhiv = len(plhiv_total[plhiv_total['CTL - NCD Have you been previously diagnosed with Diabetes Mellitus']==1.0])\n",
    "prev_dm_gen = len(gen_pop_total[gen_pop_total['CTL - NCD Have you been previously diagnosed with Diabetes Mellitus']==1.0])"
   ]
  },
  {
   "cell_type": "code",
   "execution_count": 39,
   "id": "c60e4e93",
   "metadata": {},
   "outputs": [],
   "source": [
    "screened_dm = len(screened_df[screened_df['CTL - NCD Random blood sugar']>0.0])\n",
    "screened_hptn = len(screened_df[(screened_df['CTL - NCD Systolic blood pressure']>70)|(screened_df['CTL - NCD Diastolic blood pressure']>40)])\n",
    "\n",
    "screened_dm_plhiv = len(plhiv_total[plhiv_total['CTL - NCD Random blood sugar']>0.0])\n",
    "screened_dm_gen = len(gen_pop_total[gen_pop_total['CTL - NCD Random blood sugar']>0.0])\n",
    "screened_hptn_plhiv = len(plhiv_total[(plhiv_total['CTL - NCD Systolic blood pressure']>70)|(plhiv_total['CTL - NCD Diastolic blood pressure']>40)])\n",
    "screened_hptn_gen = len(gen_pop_total[(gen_pop_total['CTL - NCD Systolic blood pressure']>70)|(gen_pop_total['CTL - NCD Diastolic blood pressure']>40)])\n",
    "\n",
    "diabetic_plhiv, hypertensive_plhiv, referred_plhiv = ncd_pos(plhiv_total)\n",
    "diabetic_gen, hypertensive_gen, referred_gen = ncd_pos(gen_pop_total)"
   ]
  },
  {
   "cell_type": "code",
   "execution_count": 40,
   "id": "2ada964c",
   "metadata": {
    "scrolled": false
   },
   "outputs": [
    {
     "name": "stdout",
     "output_type": "stream",
     "text": [
      "Variable                                           Total n(%)    PLHIV n(%)    Gen. Pop. n(%)\n",
      "-----------------------------------------------  ------------  ------------  ----------------\n",
      "Total Screened to Date                                   8932          5833              3080\n",
      "No. Previously diagnosed with Diabetes Mellitus           344           129               212\n",
      "Screened for Diabetes Mellitus                           3349          2140              1208\n",
      "Diabetic                                                  194            76               117\n",
      "No. Previously diagnosed with Hypertension               1501           728               768\n",
      "Screened for hypertension                                7895          5000              2896\n",
      "Hypertensive                                             3831          2437              1393\n"
     ]
    }
   ],
   "source": [
    "table_data = [[\"Variable\", \"Total n(%)\", \"PLHIV n(%)\", \"Gen. Pop. n(%)\"],\n",
    "              [\"Total Screened to Date\", cumulative_screened, len(plhiv_total), len(gen_pop_total)], \n",
    "              [\"No. Previously diagnosed with Diabetes Mellitus\",prev_diabetes,prev_dm_plhiv ,prev_dm_gen],\n",
    "              [\"Screened for Diabetes Mellitus\",screened_dm , screened_dm_plhiv, screened_dm_gen],\n",
    "              [\"Diabetic\", len(diabetic), len(diabetic_plhiv), len(diabetic_gen)],\n",
    "              [\"No. Previously diagnosed with Hypertension\", prev_hypertension, prev_hptn_plhiv, prev_hptn_gen], \n",
    "              [\"Screened for hypertension\",screened_hptn , screened_hptn_plhiv, screened_hptn_gen],\n",
    "              [\"Hypertensive\",len(hypertensive) ,len(hypertensive_plhiv), len(hypertensive_gen)]]\n",
    "\n",
    "print(tabulate(table_data, headers=\"firstrow\"))"
   ]
  },
  {
   "cell_type": "markdown",
   "id": "47aa90c1",
   "metadata": {},
   "source": [
    "### Cumulative Analysis by Gender - Table"
   ]
  },
  {
   "cell_type": "code",
   "execution_count": 41,
   "id": "63d92fe5",
   "metadata": {},
   "outputs": [],
   "source": [
    "male_total, female_total = male_female(df)\n",
    "\n",
    "prev_hptn_male = len(male_total[male_total['CTL - NCD Have you previously been diagnosed with BP']==1.0])\n",
    "prev_hptn_female = len(female_total[female_total['CTL - NCD Have you previously been diagnosed with BP']==1.0])\n",
    "prev_dm_male = len(male_total[male_total['CTL - NCD Have you been previously diagnosed with Diabetes Mellitus']==1.0])\n",
    "prev_dm_female = len(female_total[female_total['CTL - NCD Have you been previously diagnosed with Diabetes Mellitus']==1.0])\n",
    "\n",
    "screened_dm_male = len(male_total[male_total['CTL - NCD Random blood sugar']>0.0])\n",
    "screened_dm_female = len(female_total[female_total['CTL - NCD Random blood sugar']>0.0])\n",
    "screened_hptn_male = len(male_total[(male_total['CTL - NCD Systolic blood pressure']>70)|(male_total['CTL - NCD Diastolic blood pressure']>40)])\n",
    "screened_hptn_female = len(female_total[(female_total['CTL - NCD Systolic blood pressure']>70)|(female_total['CTL - NCD Diastolic blood pressure']>40)])\n",
    "\n",
    "diabetic_male, hypertensive_male, referred_male = ncd_pos(male_total)\n",
    "diabetic_female, hypertensive_female, referred_female = ncd_pos(female_total)"
   ]
  },
  {
   "cell_type": "code",
   "execution_count": 42,
   "id": "6b1f59e9",
   "metadata": {},
   "outputs": [
    {
     "name": "stdout",
     "output_type": "stream",
     "text": [
      "Variable                                           Total n(%)    Male n(%)    Female n(%)\n",
      "-----------------------------------------------  ------------  -----------  -------------\n",
      "Total Screened to Date                                   8932         3127           5851\n",
      "No. Previously diagnosed with Diabetes Mellitus           344          122            222\n",
      "Screened for Diabetes Mellitus                           3349         1220           2129\n",
      "Diabetic                                                  194           61            133\n",
      "No. Previously diagnosed with Hypertension               1501          403           1098\n",
      "Screened for hypertension                                7895         2701           5196\n",
      "Hypertensive                                             3831         1276           2555\n"
     ]
    }
   ],
   "source": [
    "table_data = [[\"Variable\", \"Total n(%)\", \"Male n(%)\", \"Female n(%)\"],\n",
    "              [\"Total Screened to Date\", cumulative_screened, len(male_total), len(female_total)], \n",
    "              [\"No. Previously diagnosed with Diabetes Mellitus\",prev_diabetes,prev_dm_male ,prev_dm_female],\n",
    "              [\"Screened for Diabetes Mellitus\",screened_dm , screened_dm_male, screened_dm_female],\n",
    "              [\"Diabetic\", len(diabetic), len(diabetic_male), len(diabetic_female)],\n",
    "              [\"No. Previously diagnosed with Hypertension\", prev_hypertension, prev_hptn_male, prev_hptn_female], \n",
    "              [\"Screened for hypertension\",screened_hptn , screened_hptn_male, screened_hptn_female],\n",
    "              [\"Hypertensive\",len(hypertensive), len(hypertensive_male), len(hypertensive_female)]]\n",
    "\n",
    "print(tabulate(table_data, headers=\"firstrow\"))"
   ]
  },
  {
   "cell_type": "markdown",
   "id": "7272046f",
   "metadata": {},
   "source": [
    "### Monthly Totals"
   ]
  },
  {
   "cell_type": "code",
   "execution_count": 43,
   "id": "20e49b7c",
   "metadata": {},
   "outputs": [],
   "source": [
    "# cumulative, month by month"
   ]
  },
  {
   "cell_type": "markdown",
   "id": "02bd5b01",
   "metadata": {},
   "source": [
    "<h1 style=\"color:red\"> ANOMALOUS READINGS</h1>\n",
    "\n",
    "<p>This section will identify any entries that are anomalous by COA/Health Worker to gain a better understanding of the\n",
    "    screening and reporting process</p>"
   ]
  },
  {
   "cell_type": "code",
   "execution_count": 44,
   "id": "273628d6",
   "metadata": {},
   "outputs": [],
   "source": [
    "screened_reporting_df, number_screened = screened_period(df, last_date_reporting_month, first_date = first_date_reporting_month)"
   ]
  },
  {
   "cell_type": "markdown",
   "id": "32b44e9e",
   "metadata": {},
   "source": [
    "#### screening under 30s"
   ]
  },
  {
   "cell_type": "code",
   "execution_count": 45,
   "id": "ee010abe",
   "metadata": {},
   "outputs": [],
   "source": [
    "less_than_40 = screened_reporting_df[screened_reporting_df['Age'] < 30]"
   ]
  },
  {
   "cell_type": "code",
   "execution_count": 48,
   "id": "2d86524a",
   "metadata": {},
   "outputs": [],
   "source": [
    "from pivottablejs import pivot_ui"
   ]
  },
  {
   "cell_type": "code",
   "execution_count": 53,
   "id": "d139cf65",
   "metadata": {},
   "outputs": [
    {
     "data": {
      "text/html": [
       "\n",
       "        <iframe\n",
       "            width=\"100%\"\n",
       "            height=\"500\"\n",
       "            src=\"pivottablejs.html\"\n",
       "            frameborder=\"0\"\n",
       "            allowfullscreen\n",
       "            \n",
       "        ></iframe>\n",
       "        "
      ],
      "text/plain": [
       "<IPython.lib.display.IFrame at 0x1f580e3a880>"
      ]
     },
     "execution_count": 53,
     "metadata": {},
     "output_type": "execute_result"
    }
   ],
   "source": [
    "from IPython.display import HTML\n",
    "\n",
    "pivot_ui(less_than_40)\n"
   ]
  },
  {
   "cell_type": "code",
   "execution_count": null,
   "id": "b6bc6679",
   "metadata": {},
   "outputs": [],
   "source": []
  }
 ],
 "metadata": {
  "kernelspec": {
   "display_name": "Python 3 (ipykernel)",
   "language": "python",
   "name": "python3"
  },
  "language_info": {
   "codemirror_mode": {
    "name": "ipython",
    "version": 3
   },
   "file_extension": ".py",
   "mimetype": "text/x-python",
   "name": "python",
   "nbconvert_exporter": "python",
   "pygments_lexer": "ipython3",
   "version": "3.9.7"
  }
 },
 "nbformat": 4,
 "nbformat_minor": 5
}
